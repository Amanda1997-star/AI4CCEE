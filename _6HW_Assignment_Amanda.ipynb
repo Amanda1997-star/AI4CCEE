{
  "nbformat": 4,
  "nbformat_minor": 0,
  "metadata": {
    "colab": {
      "provenance": [],
      "authorship_tag": "ABX9TyNZ8KE9ovhrovBTwhg0pgIO",
      "include_colab_link": true
    },
    "kernelspec": {
      "name": "python3",
      "display_name": "Python 3"
    },
    "language_info": {
      "name": "python"
    }
  },
  "cells": [
    {
      "cell_type": "markdown",
      "metadata": {
        "id": "view-in-github",
        "colab_type": "text"
      },
      "source": [
        "<a href=\"https://colab.research.google.com/github/Amanda1997-star/AI4CCEE/blob/submission/_6HW_Assignment_Amanda.ipynb\" target=\"_parent\"><img src=\"https://colab.research.google.com/assets/colab-badge.svg\" alt=\"Open In Colab\"/></a>"
      ]
    },
    {
      "cell_type": "code",
      "execution_count": 5,
      "metadata": {
        "id": "lzI9-3U_Gfhg"
      },
      "outputs": [],
      "source": [
        "import pandas as pd\n",
        "import matplotlib.pyplot as plt"
      ]
    },
    {
      "cell_type": "code",
      "source": [
        "df = pd.read_csv('/content/235-Nov (1).csv')\n",
        "print(df.head())"
      ],
      "metadata": {
        "colab": {
          "base_uri": "https://localhost:8080/"
        },
        "id": "AoN4KNn5JfUO",
        "outputId": "5afac3fe-40dd-4f3a-d6d2-b997b07d32e1"
      },
      "execution_count": 36,
      "outputs": [
        {
          "output_type": "stream",
          "name": "stdout",
          "text": [
            "  owner-id network-id      date   time  utc-offset  start-ime  end-time  \\\n",
            "0   Q-Free     Q-Free  20211110  80900           0      80800     80900   \n",
            "1   Q-Free     Q-Free  20211110  80900           0      80800     80900   \n",
            "2   Q-Free     Q-Free  20211110  80900           0      80800     80900   \n",
            "3   Q-Free     Q-Free  20211110  80900           0      80800     80900   \n",
            "4   Q-Free     Q-Free  20211110  80900           0      80800     80900   \n",
            "\n",
            "     detector-id status  lane-id  ...  small-class-count  medium-class-count  \\\n",
            "0   DMDS20-WB EN     OK        1  ...                  0                   0   \n",
            "1   DMDS20-WB RL     OK        4  ...                  0                   1   \n",
            "2  DMDS20-WB RCL     OK        3  ...                  0                   0   \n",
            "3  DMDS20-WB LCL     OK        2  ...                  0                   0   \n",
            "4   DMDS20-WB LL     OK        1  ...                  0                   0   \n",
            "\n",
            "   large-class-count                device-id  link-direction  detector-type  \\\n",
            "0                  0  OpenTMS-Detector46573-0               w        unknown   \n",
            "1                  0  OpenTMS-Detector46573-1               w        unknown   \n",
            "2                  0  OpenTMS-Detector46573-2               w        unknown   \n",
            "3                  0  OpenTMS-Detector46573-3               w        unknown   \n",
            "4                  0  OpenTMS-Detector46573-4               w        unknown   \n",
            "\n",
            "  sample-period device-description month  day  \n",
            "0            60            ON_RAMP    11   10  \n",
            "1            60             NORMAL    11   10  \n",
            "2            60             NORMAL    11   10  \n",
            "3            60             NORMAL    11   10  \n",
            "4            60             NORMAL    11   10  \n",
            "\n",
            "[5 rows x 23 columns]\n"
          ]
        }
      ]
    },
    {
      "cell_type": "code",
      "source": [
        "print(df.describe())"
      ],
      "metadata": {
        "colab": {
          "base_uri": "https://localhost:8080/"
        },
        "id": "KIT9mlc4KTmV",
        "outputId": "3b96e32c-06b3-4bbe-a38f-5ec48e3f5345"
      },
      "execution_count": 37,
      "outputs": [
        {
          "output_type": "stream",
          "name": "stdout",
          "text": [
            "               date           time  utc-offset      start-ime       end-time  \\\n",
            "count  1.287800e+05  128780.000000    128780.0  128780.000000  128780.000000   \n",
            "mean   2.021111e+07  117912.004193         0.0  117932.395558  117912.004193   \n",
            "std    3.440028e+00   69021.866649         0.0   69021.150108   69021.866649   \n",
            "min    2.021110e+07       0.000000         0.0       0.000000       0.000000   \n",
            "25%    2.021110e+07   60100.000000         0.0   60100.000000   60100.000000   \n",
            "50%    2.021111e+07  120000.000000         0.0  120000.000000  120000.000000   \n",
            "75%    2.021111e+07  175700.000000         0.0  175800.000000  175700.000000   \n",
            "max    2.021111e+07  235900.000000         0.0  235900.000000  235900.000000   \n",
            "\n",
            "             lane-id     lane-count  lane-occupancy     lane-speed  \\\n",
            "count  128780.000000  128780.000000   128780.000000  128780.000000   \n",
            "mean        2.200000       9.634074        3.797197      61.164964   \n",
            "std         1.166195       8.714397        4.332574       6.787330   \n",
            "min         1.000000       0.000000        0.000000       0.000000   \n",
            "25%         1.000000       2.000000        0.000000      58.000000   \n",
            "50%         2.000000       7.000000        3.000000      61.000000   \n",
            "75%         3.000000      16.000000        6.000000      64.000000   \n",
            "max         4.000000      51.000000       99.000000     143.000000   \n",
            "\n",
            "       small-class-count  medium-class-count  large-class-count  \\\n",
            "count      128780.000000       128780.000000      128780.000000   \n",
            "mean            0.203960            7.616548           1.581472   \n",
            "std             0.648766            6.935575           2.237594   \n",
            "min             0.000000            0.000000           0.000000   \n",
            "25%             0.000000            2.000000           0.000000   \n",
            "50%             0.000000            6.000000           1.000000   \n",
            "75%             0.000000           13.000000           2.000000   \n",
            "max            17.000000           37.000000          23.000000   \n",
            "\n",
            "       sample-period     month            day  \n",
            "count       128780.0  128780.0  128780.000000  \n",
            "mean            60.0      11.0       6.665942  \n",
            "std              0.0       0.0       3.396851  \n",
            "min             60.0      11.0       2.000000  \n",
            "25%             60.0      11.0       2.000000  \n",
            "50%             60.0      11.0       8.000000  \n",
            "75%             60.0      11.0      10.000000  \n",
            "max             60.0      11.0      10.000000  \n"
          ]
        }
      ]
    },
    {
      "cell_type": "code",
      "source": [
        "print(df.info())"
      ],
      "metadata": {
        "colab": {
          "base_uri": "https://localhost:8080/"
        },
        "id": "TTLM7HlsKjlo",
        "outputId": "744a9fe5-fe0e-46bb-840b-e0499338f93d"
      },
      "execution_count": 42,
      "outputs": [
        {
          "output_type": "stream",
          "name": "stdout",
          "text": [
            "<class 'pandas.core.frame.DataFrame'>\n",
            "RangeIndex: 128780 entries, 0 to 128779\n",
            "Data columns (total 24 columns):\n",
            " #   Column              Non-Null Count   Dtype  \n",
            "---  ------              --------------   -----  \n",
            " 0   owner-id            128780 non-null  object \n",
            " 1   network-id          128780 non-null  object \n",
            " 2   date                128780 non-null  int64  \n",
            " 3   time                128780 non-null  object \n",
            " 4   utc-offset          128780 non-null  int64  \n",
            " 5   start-ime           128780 non-null  int64  \n",
            " 6   end-time            128780 non-null  int64  \n",
            " 7   detector-id         128780 non-null  object \n",
            " 8   status              128780 non-null  object \n",
            " 9   lane-id             128780 non-null  int64  \n",
            " 10  lane-count          128780 non-null  int64  \n",
            " 11  lane-occupancy      128780 non-null  int64  \n",
            " 12  lane-speed          128780 non-null  int64  \n",
            " 13  small-class-count   128780 non-null  int64  \n",
            " 14  medium-class-count  128780 non-null  int64  \n",
            " 15  large-class-count   128780 non-null  int64  \n",
            " 16  device-id           128780 non-null  object \n",
            " 17  link-direction      128780 non-null  object \n",
            " 18  detector-type       128780 non-null  object \n",
            " 19  sample-period       128780 non-null  int64  \n",
            " 20  device-description  128780 non-null  object \n",
            " 21  month               128780 non-null  int64  \n",
            " 22  day                 128780 non-null  int64  \n",
            " 23  hours               128780 non-null  float64\n",
            "dtypes: float64(1), int64(14), object(9)\n",
            "memory usage: 23.6+ MB\n",
            "None\n"
          ]
        }
      ]
    },
    {
      "cell_type": "code",
      "source": [
        "import pandas as pd\n",
        "df = pd.read_csv('/content/235-Nov (1).csv')\n",
        "df['time'] = df['time'].astype(str).str.zfill(6)\n",
        "def time_to_hours(hhmmss):\n",
        "    hh = int(hhmmss[:2])  # Extract hours\n",
        "    mm = int(hhmmss[2:4])  # Extract minutes\n",
        "    ss = int(hhmmss[4:])   # Extract seconds\n",
        "    return hh + mm/60 + ss/3600  # Convert to hours\n",
        "\n",
        "# Apply the function to the 'time' column\n",
        "df['hours'] = df['time'].apply(time_to_hours)"
      ],
      "metadata": {
        "id": "gN222xMUNV5H"
      },
      "execution_count": 43,
      "outputs": []
    },
    {
      "cell_type": "code",
      "source": [
        "df['date'] = pd.to_datetime(df['date'])"
      ],
      "metadata": {
        "id": "WyXqkvDUQzYn"
      },
      "execution_count": 45,
      "outputs": []
    },
    {
      "cell_type": "code",
      "source": [
        "print(df.head())"
      ],
      "metadata": {
        "colab": {
          "base_uri": "https://localhost:8080/"
        },
        "id": "YwGoklYHUgYg",
        "outputId": "abaadb66-9b7c-49b2-cb71-32fcf1ef9dc0"
      },
      "execution_count": 22,
      "outputs": [
        {
          "output_type": "stream",
          "name": "stdout",
          "text": [
            "  owner-id network-id                          date    time  utc-offset  \\\n",
            "0   Q-Free     Q-Free 1970-01-01 00:00:00.020211110  080900           0   \n",
            "1   Q-Free     Q-Free 1970-01-01 00:00:00.020211110  080900           0   \n",
            "2   Q-Free     Q-Free 1970-01-01 00:00:00.020211110  080900           0   \n",
            "3   Q-Free     Q-Free 1970-01-01 00:00:00.020211110  080900           0   \n",
            "4   Q-Free     Q-Free 1970-01-01 00:00:00.020211110  080900           0   \n",
            "\n",
            "   start-ime  end-time    detector-id status  lane-id  ...  \\\n",
            "0      80800     80900   DMDS20-WB EN     OK        1  ...   \n",
            "1      80800     80900   DMDS20-WB RL     OK        4  ...   \n",
            "2      80800     80900  DMDS20-WB RCL     OK        3  ...   \n",
            "3      80800     80900  DMDS20-WB LCL     OK        2  ...   \n",
            "4      80800     80900   DMDS20-WB LL     OK        1  ...   \n",
            "\n",
            "   medium-class-count  large-class-count                device-id  \\\n",
            "0                   0                  0  OpenTMS-Detector46573-0   \n",
            "1                   1                  0  OpenTMS-Detector46573-1   \n",
            "2                   0                  0  OpenTMS-Detector46573-2   \n",
            "3                   0                  0  OpenTMS-Detector46573-3   \n",
            "4                   0                  0  OpenTMS-Detector46573-4   \n",
            "\n",
            "   link-direction  detector-type  sample-period device-description month day  \\\n",
            "0               w        unknown             60            ON_RAMP    11  10   \n",
            "1               w        unknown             60             NORMAL    11  10   \n",
            "2               w        unknown             60             NORMAL    11  10   \n",
            "3               w        unknown             60             NORMAL    11  10   \n",
            "4               w        unknown             60             NORMAL    11  10   \n",
            "\n",
            "   hours  \n",
            "0   8.15  \n",
            "1   8.15  \n",
            "2   8.15  \n",
            "3   8.15  \n",
            "4   8.15  \n",
            "\n",
            "[5 rows x 24 columns]\n"
          ]
        }
      ]
    },
    {
      "cell_type": "code",
      "source": [
        "for date in df['date'].unique():\n",
        "  df_date = df[df['date'] == date]\n",
        "  avg_lane_occupancy = df_date['lane-occupancy'].mean()\n",
        "  print(f'Average lane occupancy for {date}: {avg_lane_occupancy}')"
      ],
      "metadata": {
        "colab": {
          "base_uri": "https://localhost:8080/"
        },
        "id": "JGqZIi90aC5Z",
        "outputId": "879d74b2-3aae-4839-a8bc-4b9f67f04f7c"
      },
      "execution_count": 48,
      "outputs": [
        {
          "output_type": "stream",
          "name": "stdout",
          "text": [
            "Average lane occupancy for 1970-01-01 00:00:00.020211110: 4.478697674418605\n",
            "Average lane occupancy for 1970-01-01 00:00:00.020211102: 4.229873193748157\n",
            "Average lane occupancy for 1970-01-01 00:00:00.020211108: 4.288217149907465\n",
            "Average lane occupancy for 1970-01-01 00:00:00.020211111: 2.362357414448669\n",
            "Average lane occupancy for 1970-01-01 00:00:00.020211103: 1.8052338530066816\n",
            "Average lane occupancy for 1970-01-01 00:00:00.020211109: 1.9666355140186915\n"
          ]
        }
      ]
    },
    {
      "cell_type": "code",
      "source": [
        "import seaborn as sns"
      ],
      "metadata": {
        "id": "TfkBebNYkw41"
      },
      "execution_count": 49,
      "outputs": []
    },
    {
      "cell_type": "code",
      "source": [
        "status_counts = df.groupby('status')['lane-count'].sum()"
      ],
      "metadata": {
        "id": "DaS1gRGNlQwj"
      },
      "execution_count": 50,
      "outputs": []
    },
    {
      "cell_type": "code",
      "source": [
        "plt.pie(status_counts.values, labels=status_counts.index, autopct='%1.1f%%', colors=['green'])\n",
        "plt.title('Total Lane Counts by Status')\n",
        "plt.show()"
      ],
      "metadata": {
        "colab": {
          "base_uri": "https://localhost:8080/",
          "height": 428
        },
        "id": "IO4QdFpHlSUK",
        "outputId": "8f26cec4-9dcc-402d-cbdd-f3661fb70b35"
      },
      "execution_count": 55,
      "outputs": [
        {
          "output_type": "display_data",
          "data": {
            "text/plain": [
              "<Figure size 640x480 with 1 Axes>"
            ],
            "image/png": "[encoded data removed]"
          },
          "metadata": {}
        }
      ]
    },
    {
      "cell_type": "code",
      "source": [
        "plt.scatter(df['lane-occupancy'], df['lane-count'])\n",
        "plt.xlabel('Lane Occupancy')\n",
        "plt.ylabel('Lane Count')\n",
        "plt.title('Lane Occupancy vs. Lane Count')\n",
        "plt.show()"
      ],
      "metadata": {
        "colab": {
          "base_uri": "https://localhost:8080/",
          "height": 472
        },
        "id": "ZrpsbEBgnRw7",
        "outputId": "580e9d8f-2f63-4d92-ff56-62a729d09f0b"
      },
      "execution_count": 57,
      "outputs": [
        {
          "output_type": "display_data",
          "data": {
            "text/plain": [
              "<Figure size 640x480 with 1 Axes>"
            ],
            "image/png": "[encoded data removed]"
          },
          "metadata": {}
        }
      ]
    }
  ]
}