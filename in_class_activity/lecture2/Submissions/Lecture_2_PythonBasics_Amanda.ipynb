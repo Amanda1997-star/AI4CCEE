{
  "nbformat": 4,
  "nbformat_minor": 0,
  "metadata": {
    "colab": {
      "provenance": [],
      "authorship_tag": "ABX9TyMIzsH1joYEf1hJce023tuw",
      "include_colab_link": true
    },
    "kernelspec": {
      "name": "python3",
      "display_name": "Python 3"
    },
    "language_info": {
      "name": "python"
    }
  },
  "cells": [
    {
      "cell_type": "markdown",
      "metadata": {
        "id": "view-in-github",
        "colab_type": "text"
      },
      "source": [
        "<a href=\"https://colab.research.google.com/github/Amanda1997-star/AI4CCEE/blob/submission/in_class_activity/lecture2/Submissions/Lecture_2_PythonBasics_Amanda.ipynb\" target=\"_parent\"><img src=\"https://colab.research.google.com/assets/colab-badge.svg\" alt=\"Open In Colab\"/></a>"
      ]
    },
    {
      "cell_type": "code",
      "execution_count": null,
      "metadata": {
        "colab": {
          "base_uri": "https://localhost:8080/"
        },
        "id": "j8sBNdpxWUeF",
        "outputId": "aecc52e8-b265-43d8-ecdb-d3292ebca724"
      },
      "outputs": [
        {
          "output_type": "stream",
          "name": "stdout",
          "text": [
            "hello python\n"
          ]
        }
      ],
      "source": [
        "print(\"hello python\")"
      ]
    },
    {
      "cell_type": "code",
      "source": [
        "name = \"Amanda Quarshie\""
      ],
      "metadata": {
        "id": "J1GeitTkW1bs"
      },
      "execution_count": null,
      "outputs": []
    },
    {
      "cell_type": "code",
      "source": [
        "Age = 26"
      ],
      "metadata": {
        "id": "dViyrfzEXDR4"
      },
      "execution_count": null,
      "outputs": []
    },
    {
      "cell_type": "code",
      "source": [
        "print (f\"Hello my name is {name} and I am {Age} years old\")"
      ],
      "metadata": {
        "colab": {
          "base_uri": "https://localhost:8080/"
        },
        "id": "ouQ0cS0fXVbO",
        "outputId": "bc7e346b-a8d7-4663-cb3e-b703d01a7091"
      },
      "execution_count": null,
      "outputs": [
        {
          "output_type": "stream",
          "name": "stdout",
          "text": [
            "Hello my name is Amanda Quarshie and I am 26 years old\n"
          ]
        }
      ]
    },
    {
      "cell_type": "code",
      "source": [
        "my_name = \"Hello my name is Amanda Quarshie and I am 26 years old\"\n",
        "print(my_name.upper())\n"
      ],
      "metadata": {
        "colab": {
          "base_uri": "https://localhost:8080/"
        },
        "id": "BkslNS82YXh6",
        "outputId": "94e89918-911b-460e-b541-362efe4d47b2"
      },
      "execution_count": null,
      "outputs": [
        {
          "output_type": "stream",
          "name": "stdout",
          "text": [
            "HELLO MY NAME IS AMANDA QUARSHIE AND I AM 26 YEARS OLD\n"
          ]
        }
      ]
    },
    {
      "cell_type": "code",
      "source": [
        "my_name = \"Hello my name is Amanda Quarshie and I am 26 years old\"\n",
        "print(my_name.lower())"
      ],
      "metadata": {
        "colab": {
          "base_uri": "https://localhost:8080/"
        },
        "id": "CNTXV6dEZNgy",
        "outputId": "76e42ddc-c7df-4322-cf08-79fb8122ad22"
      },
      "execution_count": null,
      "outputs": [
        {
          "output_type": "stream",
          "name": "stdout",
          "text": [
            "hello my name is amanda quarshie and i am 26 years old\n"
          ]
        }
      ]
    },
    {
      "cell_type": "code",
      "source": [
        "hobby = \" I love reading\"\n",
        "my_name = \"Hello my name is Amanda Quarshie and I am 26 years old\"\n",
        "new_name = my_name.replace(\"I am 26 years old\", hobby)\n",
        "print(new_name)"
      ],
      "metadata": {
        "colab": {
          "base_uri": "https://localhost:8080/"
        },
        "id": "lCBmbIl0aIU8",
        "outputId": "5f2931ff-8996-482d-ebc6-984886a9eb7d"
      },
      "execution_count": null,
      "outputs": [
        {
          "output_type": "stream",
          "name": "stdout",
          "text": [
            "Hello my name is Amanda Quarshie and  I love reading\n"
          ]
        }
      ]
    },
    {
      "cell_type": "code",
      "source": [
        "asphalt_unit_cost = 0\n",
        "aspahlt_quatity = 0\n",
        "concrete_unit_cost = 0\n",
        "concrete_quantity = 0\n",
        "labour_unit_cost = 0\n",
        "labour_quantity = 0\n",
        "labour_hours = 0"
      ],
      "metadata": {
        "id": "xiZvRWF1eGgZ"
      },
      "execution_count": null,
      "outputs": []
    },
    {
      "cell_type": "code",
      "source": [
        "asphalt_unit_cost = int(input(\"what is the unit cost of asphalt? \"))\n",
        "aspahlt_quatity = int(input(\"what is the quantity of asphalt? \"))\n",
        "concrete_unit_cost = int(input(\"what is the unit cost of concrete? \"))\n",
        "concrete_quantity = int(input(\"what is the quantity of concrete? \"))\n",
        "labour_unit_cost = int(input(\"what is the unit cost of labour? \"))\n",
        "labour_hours = int(input(\"what is the quantity of labour hours? \"))"
      ],
      "metadata": {
        "colab": {
          "base_uri": "https://localhost:8080/"
        },
        "id": "6cMDDVnkfJ3Q",
        "outputId": "2d556774-87a6-4493-da82-fd55c7eedb83"
      },
      "execution_count": null,
      "outputs": [
        {
          "name": "stdout",
          "output_type": "stream",
          "text": [
            "what is the unit cost of asphalt? 20\n",
            "what is the quantity of asphalt? 50\n",
            "what is the unit cost of concrete? 35\n",
            "what is the quantity of concrete? 45\n",
            "what is the unit cost of labour? 100\n",
            "what is the quantity of labour hours? 40\n"
          ]
        }
      ]
    },
    {
      "cell_type": "code",
      "source": [
        "TCA = (asphalt_unit_cost * aspahlt_quatity)\n",
        "print(TCA)"
      ],
      "metadata": {
        "colab": {
          "base_uri": "https://localhost:8080/"
        },
        "id": "OLR7EiQ_gptw",
        "outputId": "a99f025f-3099-490d-f811-5dce899804c5"
      },
      "execution_count": null,
      "outputs": [
        {
          "output_type": "stream",
          "name": "stdout",
          "text": [
            "1000\n"
          ]
        }
      ]
    },
    {
      "cell_type": "code",
      "source": [
        "TCC = (concrete_unit_cost * concrete_quantity)\n",
        "print(TCC)"
      ],
      "metadata": {
        "colab": {
          "base_uri": "https://localhost:8080/"
        },
        "id": "qFkZ-HFZg38j",
        "outputId": "b702097c-a639-48b6-ace7-f20538c95bb7"
      },
      "execution_count": null,
      "outputs": [
        {
          "output_type": "stream",
          "name": "stdout",
          "text": [
            "1575\n"
          ]
        }
      ]
    },
    {
      "cell_type": "code",
      "source": [
        "TLC = (labour_unit_cost * labour_hours)\n",
        "print(TLC)"
      ],
      "metadata": {
        "colab": {
          "base_uri": "https://localhost:8080/"
        },
        "id": "Xv--1p65g7wD",
        "outputId": "7d2388a0-5670-4ee7-bd2a-388d3dc8790b"
      },
      "execution_count": null,
      "outputs": [
        {
          "output_type": "stream",
          "name": "stdout",
          "text": [
            "4000\n"
          ]
        }
      ]
    },
    {
      "cell_type": "code",
      "source": [
        "Overall_cost = (TCA + TCC + TLC)\n",
        "print(Overall_cost)"
      ],
      "metadata": {
        "colab": {
          "base_uri": "https://localhost:8080/"
        },
        "id": "zD57PgmjhEDy",
        "outputId": "3096ed34-2f9f-4ebe-f99f-a0af21da7aec"
      },
      "execution_count": null,
      "outputs": [
        {
          "output_type": "stream",
          "name": "stdout",
          "text": [
            "6575\n"
          ]
        }
      ]
    },
    {
      "cell_type": "code",
      "source": [
        "budget = 50000"
      ],
      "metadata": {
        "id": "QXd3_rlZhxq5"
      },
      "execution_count": null,
      "outputs": []
    },
    {
      "cell_type": "code",
      "source": [
        "if Overall_cost < budget:\n",
        "    print(\"under budget\")\n",
        "elif Overall_cost > budget:\n",
        "    print(\"over budget\")\n",
        "\n"
      ],
      "metadata": {
        "colab": {
          "base_uri": "https://localhost:8080/"
        },
        "id": "Dtjz8VzZh2eA",
        "outputId": "de726f52-e473-48ae-af85-cc7e5abf3d8b"
      },
      "execution_count": null,
      "outputs": [
        {
          "output_type": "stream",
          "name": "stdout",
          "text": [
            "under budget\n"
          ]
        }
      ]
    },
    {
      "cell_type": "code",
      "source": [
        "import pandas as pd\n",
        "df = pd.read_csv ('example.csv')\n",
        "print(df.head())"
      ],
      "metadata": {
        "colab": {
          "base_uri": "https://localhost:8080/"
        },
        "id": "imo2TT74nJ7Q",
        "outputId": "857500c7-ba98-48c0-f683-9ead88be969b"
      },
      "execution_count": null,
      "outputs": [
        {
          "output_type": "stream",
          "name": "stdout",
          "text": [
            "    Name  Age         City  Gender\n",
            "0   John   26     New York    Male\n",
            "1   Jane   31  Los Angeles  Female\n",
            "2  Alice   22      Chicago  Female\n",
            "3    Bob   45      Houston    Male\n",
            "4  Carol   37      Phoenix  Female\n"
          ]
        }
      ]
    },
    {
      "cell_type": "code",
      "source": [
        "print(df.describe())"
      ],
      "metadata": {
        "colab": {
          "base_uri": "https://localhost:8080/"
        },
        "id": "e_oGfUNLoqjm",
        "outputId": "afd87bc3-3490-4c5a-f007-486226c90b38"
      },
      "execution_count": null,
      "outputs": [
        {
          "output_type": "stream",
          "name": "stdout",
          "text": [
            "             Age\n",
            "count  55.000000\n",
            "mean   31.127273\n",
            "std     6.675146\n",
            "min    21.000000\n",
            "25%    26.000000\n",
            "50%    29.000000\n",
            "75%    35.500000\n",
            "max    46.000000\n"
          ]
        }
      ]
    },
    {
      "cell_type": "markdown",
      "source": [],
      "metadata": {
        "id": "pqycqMtfYoWz"
      }
    },
    {
      "cell_type": "code",
      "source": [
        "import matplotlib.pyplot as plt\n"
      ],
      "metadata": {
        "id": "wH-nocKAndl0"
      },
      "execution_count": null,
      "outputs": []
    },
    {
      "cell_type": "code",
      "source": [
        "df1 = pd.read_csv('235-Nov.csv')\n",
        "print(df1.head())\n"
      ],
      "metadata": {
        "colab": {
          "base_uri": "https://localhost:8080/"
        },
        "id": "2QU58X28rjiX",
        "outputId": "6f847431-9450-4bf7-9e17-acf9ca9084b4"
      },
      "execution_count": null,
      "outputs": [
        {
          "output_type": "stream",
          "name": "stdout",
          "text": [
            "  owner-id network-id      date   time  utc-offset  start-ime  end-time  \\\n",
            "0   Q-Free     Q-Free  20211110  80900           0      80800     80900   \n",
            "1   Q-Free     Q-Free  20211110  80900           0      80800     80900   \n",
            "2   Q-Free     Q-Free  20211110  80900           0      80800     80900   \n",
            "3   Q-Free     Q-Free  20211110  80900           0      80800     80900   \n",
            "4   Q-Free     Q-Free  20211110  80900           0      80800     80900   \n",
            "\n",
            "     detector-id status  lane-id  ...  small-class-count  medium-class-count  \\\n",
            "0   DMDS20-WB EN     OK        1  ...                  0                   0   \n",
            "1   DMDS20-WB RL     OK        4  ...                  0                   1   \n",
            "2  DMDS20-WB RCL     OK        3  ...                  0                   0   \n",
            "3  DMDS20-WB LCL     OK        2  ...                  0                   0   \n",
            "4   DMDS20-WB LL     OK        1  ...                  0                   0   \n",
            "\n",
            "   large-class-count                device-id  link-direction  detector-type  \\\n",
            "0                  0  OpenTMS-Detector46573-0               w        unknown   \n",
            "1                  0  OpenTMS-Detector46573-1               w        unknown   \n",
            "2                  0  OpenTMS-Detector46573-2               w        unknown   \n",
            "3                  0  OpenTMS-Detector46573-3               w        unknown   \n",
            "4                  0  OpenTMS-Detector46573-4               w        unknown   \n",
            "\n",
            "  sample-period device-description month  day  \n",
            "0            60            ON_RAMP    11   10  \n",
            "1            60             NORMAL    11   10  \n",
            "2            60             NORMAL    11   10  \n",
            "3            60             NORMAL    11   10  \n",
            "4            60             NORMAL    11   10  \n",
            "\n",
            "[5 rows x 23 columns]\n"
          ]
        }
      ]
    },
    {
      "cell_type": "code",
      "source": [
        "print(df1.describe())"
      ],
      "metadata": {
        "colab": {
          "base_uri": "https://localhost:8080/"
        },
        "id": "mtOiQC-nr8XU",
        "outputId": "a00984d8-0707-4647-addb-b20d9cea4744"
      },
      "execution_count": null,
      "outputs": [
        {
          "output_type": "stream",
          "name": "stdout",
          "text": [
            "               date           time  utc-offset      start-ime       end-time  \\\n",
            "count  1.287800e+05  128780.000000    128780.0  128780.000000  128780.000000   \n",
            "mean   2.021111e+07  117912.004193         0.0  117932.395558  117912.004193   \n",
            "std    3.440028e+00   69021.866649         0.0   69021.150108   69021.866649   \n",
            "min    2.021110e+07       0.000000         0.0       0.000000       0.000000   \n",
            "25%    2.021110e+07   60100.000000         0.0   60100.000000   60100.000000   \n",
            "50%    2.021111e+07  120000.000000         0.0  120000.000000  120000.000000   \n",
            "75%    2.021111e+07  175700.000000         0.0  175800.000000  175700.000000   \n",
            "max    2.021111e+07  235900.000000         0.0  235900.000000  235900.000000   \n",
            "\n",
            "             lane-id     lane-count  lane-occupancy     lane-speed  \\\n",
            "count  128780.000000  128780.000000   128780.000000  128780.000000   \n",
            "mean        2.200000       9.634074        3.797197      61.164964   \n",
            "std         1.166195       8.714397        4.332574       6.787330   \n",
            "min         1.000000       0.000000        0.000000       0.000000   \n",
            "25%         1.000000       2.000000        0.000000      58.000000   \n",
            "50%         2.000000       7.000000        3.000000      61.000000   \n",
            "75%         3.000000      16.000000        6.000000      64.000000   \n",
            "max         4.000000      51.000000       99.000000     143.000000   \n",
            "\n",
            "       small-class-count  medium-class-count  large-class-count  \\\n",
            "count      128780.000000       128780.000000      128780.000000   \n",
            "mean            0.203960            7.616548           1.581472   \n",
            "std             0.648766            6.935575           2.237594   \n",
            "min             0.000000            0.000000           0.000000   \n",
            "25%             0.000000            2.000000           0.000000   \n",
            "50%             0.000000            6.000000           1.000000   \n",
            "75%             0.000000           13.000000           2.000000   \n",
            "max            17.000000           37.000000          23.000000   \n",
            "\n",
            "       sample-period     month            day  \n",
            "count       128780.0  128780.0  128780.000000  \n",
            "mean            60.0      11.0       6.665942  \n",
            "std              0.0       0.0       3.396851  \n",
            "min             60.0      11.0       2.000000  \n",
            "25%             60.0      11.0       2.000000  \n",
            "50%             60.0      11.0       8.000000  \n",
            "75%             60.0      11.0      10.000000  \n",
            "max             60.0      11.0      10.000000  \n"
          ]
        }
      ]
    },
    {
      "cell_type": "code",
      "source": [
        "# Load the CSV file into a pandas DataFrame\n",
        "df2 = pd.read_csv('235-Nov.csv')\n",
        "\n",
        "# Convert the 'time' column to hours\n",
        "df2 = pd.to_datetime(df['time'], format='HHMMSS').dt.hour\n",
        "\n",
        "# Print the updated DataFrame\n",
        "print(df2)"
      ],
      "metadata": {
        "colab": {
          "base_uri": "https://localhost:8080/",
          "height": 564
        },
        "id": "gHhGV02usQnv",
        "outputId": "a0f0dc65-0869-4464-be75-7734cb13992c"
      },
      "execution_count": null,
      "outputs": [
        {
          "output_type": "error",
          "ename": "ValueError",
          "evalue": "time data \"80900\" doesn't match format \"HHMMSS\", at position 0. You might want to try:\n    - passing `format` if your strings have a consistent format;\n    - passing `format='ISO8601'` if your strings are all ISO8601 but not necessarily in exactly the same format;\n    - passing `format='mixed'`, and the format will be inferred for each element individually. You might want to use `dayfirst` alongside this.",
          "traceback": [
            "\u001b[0;31m---------------------------------------------------------------------------\u001b[0m",
            "\u001b[0;31mValueError\u001b[0m                                Traceback (most recent call last)",
            "\u001b[0;32m<ipython-input-51-2fe26d50b179>\u001b[0m in \u001b[0;36m<cell line: 5>\u001b[0;34m()\u001b[0m\n\u001b[1;32m      3\u001b[0m \u001b[0;34m\u001b[0m\u001b[0m\n\u001b[1;32m      4\u001b[0m \u001b[0;31m# Convert the 'time' column to hours\u001b[0m\u001b[0;34m\u001b[0m\u001b[0;34m\u001b[0m\u001b[0m\n\u001b[0;32m----> 5\u001b[0;31m \u001b[0mdf2\u001b[0m \u001b[0;34m=\u001b[0m \u001b[0mpd\u001b[0m\u001b[0;34m.\u001b[0m\u001b[0mto_datetime\u001b[0m\u001b[0;34m(\u001b[0m\u001b[0mdf\u001b[0m\u001b[0;34m[\u001b[0m\u001b[0;34m'time'\u001b[0m\u001b[0;34m]\u001b[0m\u001b[0;34m,\u001b[0m \u001b[0mformat\u001b[0m\u001b[0;34m=\u001b[0m\u001b[0;34m'HHMMSS'\u001b[0m\u001b[0;34m)\u001b[0m\u001b[0;34m.\u001b[0m\u001b[0mdt\u001b[0m\u001b[0;34m.\u001b[0m\u001b[0mhour\u001b[0m\u001b[0;34m\u001b[0m\u001b[0;34m\u001b[0m\u001b[0m\n\u001b[0m\u001b[1;32m      6\u001b[0m \u001b[0;34m\u001b[0m\u001b[0m\n\u001b[1;32m      7\u001b[0m \u001b[0;31m# Print the updated DataFrame\u001b[0m\u001b[0;34m\u001b[0m\u001b[0;34m\u001b[0m\u001b[0m\n",
            "\u001b[0;32m/usr/local/lib/python3.10/dist-packages/pandas/core/tools/datetimes.py\u001b[0m in \u001b[0;36mto_datetime\u001b[0;34m(arg, errors, dayfirst, yearfirst, utc, format, exact, unit, infer_datetime_format, origin, cache)\u001b[0m\n\u001b[1;32m   1106\u001b[0m                 \u001b[0mresult\u001b[0m \u001b[0;34m=\u001b[0m \u001b[0marg\u001b[0m\u001b[0;34m.\u001b[0m\u001b[0mtz_localize\u001b[0m\u001b[0;34m(\u001b[0m\u001b[0;34m\"utc\"\u001b[0m\u001b[0;34m)\u001b[0m\u001b[0;34m\u001b[0m\u001b[0;34m\u001b[0m\u001b[0m\n\u001b[1;32m   1107\u001b[0m     \u001b[0;32melif\u001b[0m \u001b[0misinstance\u001b[0m\u001b[0;34m(\u001b[0m\u001b[0marg\u001b[0m\u001b[0;34m,\u001b[0m \u001b[0mABCSeries\u001b[0m\u001b[0;34m)\u001b[0m\u001b[0;34m:\u001b[0m\u001b[0;34m\u001b[0m\u001b[0;34m\u001b[0m\u001b[0m\n\u001b[0;32m-> 1108\u001b[0;31m         \u001b[0mcache_array\u001b[0m \u001b[0;34m=\u001b[0m \u001b[0m_maybe_cache\u001b[0m\u001b[0;34m(\u001b[0m\u001b[0marg\u001b[0m\u001b[0;34m,\u001b[0m \u001b[0mformat\u001b[0m\u001b[0;34m,\u001b[0m \u001b[0mcache\u001b[0m\u001b[0;34m,\u001b[0m \u001b[0mconvert_listlike\u001b[0m\u001b[0;34m)\u001b[0m\u001b[0;34m\u001b[0m\u001b[0;34m\u001b[0m\u001b[0m\n\u001b[0m\u001b[1;32m   1109\u001b[0m         \u001b[0;32mif\u001b[0m \u001b[0;32mnot\u001b[0m \u001b[0mcache_array\u001b[0m\u001b[0;34m.\u001b[0m\u001b[0mempty\u001b[0m\u001b[0;34m:\u001b[0m\u001b[0;34m\u001b[0m\u001b[0;34m\u001b[0m\u001b[0m\n\u001b[1;32m   1110\u001b[0m             \u001b[0mresult\u001b[0m \u001b[0;34m=\u001b[0m \u001b[0marg\u001b[0m\u001b[0;34m.\u001b[0m\u001b[0mmap\u001b[0m\u001b[0;34m(\u001b[0m\u001b[0mcache_array\u001b[0m\u001b[0;34m)\u001b[0m\u001b[0;34m\u001b[0m\u001b[0;34m\u001b[0m\u001b[0m\n",
            "\u001b[0;32m/usr/local/lib/python3.10/dist-packages/pandas/core/tools/datetimes.py\u001b[0m in \u001b[0;36m_maybe_cache\u001b[0;34m(arg, format, cache, convert_listlike)\u001b[0m\n\u001b[1;32m    252\u001b[0m         \u001b[0munique_dates\u001b[0m \u001b[0;34m=\u001b[0m \u001b[0munique\u001b[0m\u001b[0;34m(\u001b[0m\u001b[0marg\u001b[0m\u001b[0;34m)\u001b[0m\u001b[0;34m\u001b[0m\u001b[0;34m\u001b[0m\u001b[0m\n\u001b[1;32m    253\u001b[0m         \u001b[0;32mif\u001b[0m \u001b[0mlen\u001b[0m\u001b[0;34m(\u001b[0m\u001b[0munique_dates\u001b[0m\u001b[0;34m)\u001b[0m \u001b[0;34m<\u001b[0m \u001b[0mlen\u001b[0m\u001b[0;34m(\u001b[0m\u001b[0marg\u001b[0m\u001b[0;34m)\u001b[0m\u001b[0;34m:\u001b[0m\u001b[0;34m\u001b[0m\u001b[0;34m\u001b[0m\u001b[0m\n\u001b[0;32m--> 254\u001b[0;31m             \u001b[0mcache_dates\u001b[0m \u001b[0;34m=\u001b[0m \u001b[0mconvert_listlike\u001b[0m\u001b[0;34m(\u001b[0m\u001b[0munique_dates\u001b[0m\u001b[0;34m,\u001b[0m \u001b[0mformat\u001b[0m\u001b[0;34m)\u001b[0m\u001b[0;34m\u001b[0m\u001b[0;34m\u001b[0m\u001b[0m\n\u001b[0m\u001b[1;32m    255\u001b[0m             \u001b[0;31m# GH#45319\u001b[0m\u001b[0;34m\u001b[0m\u001b[0;34m\u001b[0m\u001b[0m\n\u001b[1;32m    256\u001b[0m             \u001b[0;32mtry\u001b[0m\u001b[0;34m:\u001b[0m\u001b[0;34m\u001b[0m\u001b[0;34m\u001b[0m\u001b[0m\n",
            "\u001b[0;32m/usr/local/lib/python3.10/dist-packages/pandas/core/tools/datetimes.py\u001b[0m in \u001b[0;36m_convert_listlike_datetimes\u001b[0;34m(arg, format, name, utc, unit, errors, dayfirst, yearfirst, exact)\u001b[0m\n\u001b[1;32m    486\u001b[0m     \u001b[0;31m# `format` could be inferred, or user didn't ask for mixed-format parsing.\u001b[0m\u001b[0;34m\u001b[0m\u001b[0;34m\u001b[0m\u001b[0m\n\u001b[1;32m    487\u001b[0m     \u001b[0;32mif\u001b[0m \u001b[0mformat\u001b[0m \u001b[0;32mis\u001b[0m \u001b[0;32mnot\u001b[0m \u001b[0;32mNone\u001b[0m \u001b[0;32mand\u001b[0m \u001b[0mformat\u001b[0m \u001b[0;34m!=\u001b[0m \u001b[0;34m\"mixed\"\u001b[0m\u001b[0;34m:\u001b[0m\u001b[0;34m\u001b[0m\u001b[0;34m\u001b[0m\u001b[0m\n\u001b[0;32m--> 488\u001b[0;31m         \u001b[0;32mreturn\u001b[0m \u001b[0m_array_strptime_with_fallback\u001b[0m\u001b[0;34m(\u001b[0m\u001b[0marg\u001b[0m\u001b[0;34m,\u001b[0m \u001b[0mname\u001b[0m\u001b[0;34m,\u001b[0m \u001b[0mutc\u001b[0m\u001b[0;34m,\u001b[0m \u001b[0mformat\u001b[0m\u001b[0;34m,\u001b[0m \u001b[0mexact\u001b[0m\u001b[0;34m,\u001b[0m \u001b[0merrors\u001b[0m\u001b[0;34m)\u001b[0m\u001b[0;34m\u001b[0m\u001b[0;34m\u001b[0m\u001b[0m\n\u001b[0m\u001b[1;32m    489\u001b[0m \u001b[0;34m\u001b[0m\u001b[0m\n\u001b[1;32m    490\u001b[0m     result, tz_parsed = objects_to_datetime64ns(\n",
            "\u001b[0;32m/usr/local/lib/python3.10/dist-packages/pandas/core/tools/datetimes.py\u001b[0m in \u001b[0;36m_array_strptime_with_fallback\u001b[0;34m(arg, name, utc, fmt, exact, errors)\u001b[0m\n\u001b[1;32m    517\u001b[0m     \u001b[0mCall\u001b[0m \u001b[0marray_strptime\u001b[0m\u001b[0;34m,\u001b[0m \u001b[0;32mwith\u001b[0m \u001b[0mfallback\u001b[0m \u001b[0mbehavior\u001b[0m \u001b[0mdepending\u001b[0m \u001b[0mon\u001b[0m \u001b[0;34m'errors'\u001b[0m\u001b[0;34m.\u001b[0m\u001b[0;34m\u001b[0m\u001b[0;34m\u001b[0m\u001b[0m\n\u001b[1;32m    518\u001b[0m     \"\"\"\n\u001b[0;32m--> 519\u001b[0;31m     \u001b[0mresult\u001b[0m\u001b[0;34m,\u001b[0m \u001b[0mtimezones\u001b[0m \u001b[0;34m=\u001b[0m \u001b[0marray_strptime\u001b[0m\u001b[0;34m(\u001b[0m\u001b[0marg\u001b[0m\u001b[0;34m,\u001b[0m \u001b[0mfmt\u001b[0m\u001b[0;34m,\u001b[0m \u001b[0mexact\u001b[0m\u001b[0;34m=\u001b[0m\u001b[0mexact\u001b[0m\u001b[0;34m,\u001b[0m \u001b[0merrors\u001b[0m\u001b[0;34m=\u001b[0m\u001b[0merrors\u001b[0m\u001b[0;34m,\u001b[0m \u001b[0mutc\u001b[0m\u001b[0;34m=\u001b[0m\u001b[0mutc\u001b[0m\u001b[0;34m)\u001b[0m\u001b[0;34m\u001b[0m\u001b[0;34m\u001b[0m\u001b[0m\n\u001b[0m\u001b[1;32m    520\u001b[0m     \u001b[0;32mif\u001b[0m \u001b[0many\u001b[0m\u001b[0;34m(\u001b[0m\u001b[0mtz\u001b[0m \u001b[0;32mis\u001b[0m \u001b[0;32mnot\u001b[0m \u001b[0;32mNone\u001b[0m \u001b[0;32mfor\u001b[0m \u001b[0mtz\u001b[0m \u001b[0;32min\u001b[0m \u001b[0mtimezones\u001b[0m\u001b[0;34m)\u001b[0m\u001b[0;34m:\u001b[0m\u001b[0;34m\u001b[0m\u001b[0;34m\u001b[0m\u001b[0m\n\u001b[1;32m    521\u001b[0m         \u001b[0;32mreturn\u001b[0m \u001b[0m_return_parsed_timezone_results\u001b[0m\u001b[0;34m(\u001b[0m\u001b[0mresult\u001b[0m\u001b[0;34m,\u001b[0m \u001b[0mtimezones\u001b[0m\u001b[0;34m,\u001b[0m \u001b[0mutc\u001b[0m\u001b[0;34m,\u001b[0m \u001b[0mname\u001b[0m\u001b[0;34m)\u001b[0m\u001b[0;34m\u001b[0m\u001b[0;34m\u001b[0m\u001b[0m\n",
            "\u001b[0;32mstrptime.pyx\u001b[0m in \u001b[0;36mpandas._libs.tslibs.strptime.array_strptime\u001b[0;34m()\u001b[0m\n",
            "\u001b[0;32mstrptime.pyx\u001b[0m in \u001b[0;36mpandas._libs.tslibs.strptime.array_strptime\u001b[0;34m()\u001b[0m\n",
            "\u001b[0;31mValueError\u001b[0m: time data \"80900\" doesn't match format \"HHMMSS\", at position 0. You might want to try:\n    - passing `format` if your strings have a consistent format;\n    - passing `format='ISO8601'` if your strings are all ISO8601 but not necessarily in exactly the same format;\n    - passing `format='mixed'`, and the format will be inferred for each element individually. You might want to use `dayfirst` alongside this."
          ]
        }
      ]
    }
  ]
}